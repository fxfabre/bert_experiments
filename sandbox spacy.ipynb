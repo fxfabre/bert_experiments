{
 "cells": [
  {
   "cell_type": "code",
   "execution_count": null,
   "id": "ef411482-a85d-4b5a-a998-156273756e5b",
   "metadata": {},
   "outputs": [],
   "source": [
    "import spacy\n",
    "nlp = spacy.load(\"fr_core_news_md\")\n",
    "nlp"
   ]
  },
  {
   "cell_type": "code",
   "execution_count": null,
   "id": "179b37fb-a10a-4a05-9d40-e3b1fc50a93a",
   "metadata": {},
   "outputs": [],
   "source": [
    "doc = nlp(\"Nous avions des avions en papier\")\n",
    "for token in doc:\n",
    "    print(token.lemma_, token.pos_)"
   ]
  },
  {
   "cell_type": "code",
   "execution_count": null,
   "id": "3e8230f7-bee1-4cb2-9a65-103adcc10f90",
   "metadata": {},
   "outputs": [],
   "source": [
    "peint = nlp(\"peinture\")\n",
    "sculpt = nlp(\"sculpture\")\n",
    "sport = nlp(\"sport\")"
   ]
  },
  {
   "cell_type": "code",
   "execution_count": null,
   "id": "5d25dfda-1f73-475e-8707-7d1c7a28b544",
   "metadata": {},
   "outputs": [],
   "source": [
    "peint.similarity(sculpt)"
   ]
  },
  {
   "cell_type": "code",
   "execution_count": null,
   "id": "d2d0038a-686b-4a3c-97b6-e23b9192543b",
   "metadata": {},
   "outputs": [],
   "source": [
    "peint.similarity(sport)"
   ]
  },
  {
   "cell_type": "code",
   "execution_count": null,
   "id": "ff956f7c-5038-449b-bd63-706ab8564da2",
   "metadata": {},
   "outputs": [],
   "source": [
    "peint.vector"
   ]
  },
  {
   "cell_type": "code",
   "execution_count": null,
   "id": "b615d8d1-619f-4d1f-979b-cb4c24dfb6ed",
   "metadata": {},
   "outputs": [],
   "source": []
  }
 ],
 "metadata": {
  "kernelspec": {
   "display_name": "Python 3 (ipykernel)",
   "language": "python",
   "name": "python3"
  },
  "language_info": {
   "codemirror_mode": {
    "name": "ipython",
    "version": 3
   },
   "file_extension": ".py",
   "mimetype": "text/x-python",
   "name": "python",
   "nbconvert_exporter": "python",
   "pygments_lexer": "ipython3",
   "version": "3.8.9"
  }
 },
 "nbformat": 4,
 "nbformat_minor": 5
}
